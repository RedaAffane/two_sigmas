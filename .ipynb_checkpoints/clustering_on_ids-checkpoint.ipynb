{
 "cells": [
  {
   "cell_type": "code",
   "execution_count": 37,
   "metadata": {
    "collapsed": false
   },
   "outputs": [],
   "source": [
    "%matplotlib inline\n",
    "import pandas as pd\n",
    "import numpy as np\n",
    "import matplotlib.pyplot as plt\n",
    "import seaborn as sns\n",
    "import pickle as pickle\n",
    "import copy\n",
    "import operator\n",
    "\n",
    "#In order to allow to print all the 111 columns\n",
    "pd.set_option('display.max_columns', 120)\n",
    "import sys\n",
    "#sys.path.insert(0,\"/home/reda/py-kmeans/\")\n",
    "\n",
    "from sklearn.metrics import r2_score\n",
    "from sklearn.linear_model import LinearRegression, Ridge\n",
    "\n",
    "from scipy.cluster.hierarchy import dendrogram, linkage,cut_tree\n",
    "from scipy.cluster.hierarchy import cophenet\n",
    "from scipy.spatial.distance import pdist"
   ]
  },
  {
   "cell_type": "code",
   "execution_count": null,
   "metadata": {
    "collapsed": true
   },
   "outputs": [],
   "source": [
    "#Load previously fitted models\n",
    "overall_reward_models = pickle.load( open( \"overall_reward_models.p\", \"rb\" ) )\n",
    "public_score = pickle.load( open( \"public_score.p\", \"rb\" ) )"
   ]
  },
  {
   "cell_type": "code",
   "execution_count": 2,
   "metadata": {
    "collapsed": true
   },
   "outputs": [],
   "source": [
    "# OR create new ones\n",
    "overall_reward_models={}\n",
    "public_score={}"
   ]
  },
  {
   "cell_type": "code",
   "execution_count": 3,
   "metadata": {
    "collapsed": true
   },
   "outputs": [],
   "source": [
    "#Read the entire dataset and split it into a training and test set on the number og timestamps\n",
    "sigma = pd.read_hdf(\"./data/train.h5\")\n",
    "train = sigma[sigma[\"timestamp\"].isin(sigma[\"timestamp\"].unique()[:913])]\n",
    "test = sigma[sigma[\"timestamp\"].isin(sigma[\"timestamp\"].unique()[913:])]"
   ]
  },
  {
   "cell_type": "code",
   "execution_count": 4,
   "metadata": {
    "collapsed": true
   },
   "outputs": [],
   "source": [
    "#This function constructs a dataframe which lines correspond to different Ids. Each line is a binary vector, with\n",
    "# 1's for the top 5 most correlated features with \"y\", and 0's otherwise.\n",
    "def construct_df(NB_FEATURES):\n",
    "    '''\n",
    "    NB_FEATURES: The number of top correlated features to keep for each Id\n",
    "    '''\n",
    "    grp_ids=train.groupby([\"id\"])\n",
    "    columns=[c for c in train.columns if c not in [\"id\",\"timestamp\",\"y\"] ]\n",
    "    \n",
    "    #construct a dictionnary containing top NB_FEATURES features for each id.\n",
    "    ids_dict={}\n",
    "    for Id in train.id.unique():\n",
    "        values=[]\n",
    "        df=grp_ids.get_group(Id)\n",
    "        for col in columns:\n",
    "            values.append(np.absolute(np.corrcoef(df[col].values,(df.y).values)[0,1]))\n",
    "        if sum(~np.isnan(values))>=5:\n",
    "            ids_dict[Id] = pd.Series(columns)[values>=np.sort(values)[~np.isnan(np.sort(values))][::-1][NB_FEATURES-1]].values\n",
    "    \n",
    "    # construct a dataframe from the above dictionnary\n",
    "    ids_corr = pd.DataFrame.from_dict(ids_dict,orient=\"index\").ix[:,0:(NB_FEATURES-1)]\n",
    "    \n",
    "    #Convert the above dataframe into a data frame with binary values : \n",
    "    # 1 if the predictor is within the top NB_FEATURES most correlated features with \"y\" foe the selected id\n",
    "    # 0: if not\n",
    "    corr_binary=pd.DataFrame(index=ids_corr.index,columns=[c for c in train.columns if c not in [\"id\",\"timestamp\",\"y\"]],data=0)\n",
    "    for index in corr_binary.index:\n",
    "        cols=ids_corr.ix[index].values\n",
    "        corr_binary.ix[index,cols]=[1]*NB_FEATURES\n",
    "    return corr_binary\n",
    "\n",
    "# This function performs a hierarchical clustering on the above constructed dataframe, in order to group ids with\n",
    "# similar relevant features.\n",
    "def hiarchical_clust(corr_binary,HIERCHICAL_METHOD,HIERCHICAL_NB_CLUSTERS):\n",
    "    '''\n",
    "    corr_binary: the binary dataframe outputted by the function construct_df\n",
    "    HIERCHICAL_METHOD:the linkage method to use : WARD, weighted, etc: https://docs.scipy.org/doc/scipy-0.18.1/reference/generated/scipy.cluster.hierarchy.linkage.html#scipy.cluster.hierarchy.linkage\n",
    "    HIERCHICAL_NB_CLUSTERS: The number of clusters to keep\n",
    "    '''\n",
    "    #Hiearchical clustering\n",
    "    #We use the Hamming distance as a similarity measure\n",
    "    Z = linkage(corr_binary.values, method=HIERCHICAL_METHOD,metric=\"hamming\")\n",
    "    \n",
    "    #construct a dictionnary hloding the ids belonging to each cluster\n",
    "    corr_binary[\"cluster\"]=cut_tree(Z,n_clusters=HIERCHICAL_NB_CLUSTERS).flatten()\n",
    "    cluster_id=corr_binary.cluster.to_dict()\n",
    "    cols=sigma[~sigma.id.isin(corr_binary.index)].id.unique()\n",
    "    for col in cols:\n",
    "        cluster_id[col]=0\n",
    "\n",
    "    #construct dict holding NB_FEATURES features for each cluster    \n",
    "    clusters={}\n",
    "    for cluster in corr_binary.cluster.unique():\n",
    "        clusters[cluster]=corr_binary[corr_binary.cluster==cluster].sum(axis=0).sort(ascending=False,inplace=False)[1:NB_FEATURES+1].index.values\n",
    "\n",
    "    return clusters, cluster_id"
   ]
  },
  {
   "cell_type": "code",
   "execution_count": 38,
   "metadata": {
    "collapsed": true
   },
   "outputs": [],
   "source": [
    "# This function mimics the env.step function of the Kagglegym API\n",
    "def step(timestamp,y_pred):\n",
    "    if timestamp==1811:\n",
    "        done = True\n",
    "    else:\n",
    "        done = False\n",
    "    reward=r2_score(test[test.timestamp==timestamp].y.values,y_pred)\n",
    "    timestamp=timestamp+1\n",
    "    features= test.loc[test.timestamp==timestamp,~test.columns.isin([\"y\"])].copy()\n",
    "    return features,reward, done"
   ]
  },
  {
   "cell_type": "code",
   "execution_count": 43,
   "metadata": {
    "collapsed": true
   },
   "outputs": [],
   "source": [
    "def multiple_fit(clusters,predictors_cluster): \n",
    "    '''\n",
    "    Fits multiple models to the constructed clusters.\n",
    "    clusters: dictionnary holding NB_FEATURES features for each cluster\n",
    "    predictors_cluster: dictionnary hloding the ids belonging to each cluster\n",
    "    '''\n",
    "    #Fitting a linear regression model\n",
    "    linear={}\n",
    "    for cluster in np.arange(0,len(predictors_cluster),1):\n",
    "        if len(train[train.id.isin(clusters[cluster])]) > MIN_NB_OF_ROWS_PER_CLUSTER :\n",
    "            linear[cluster]=Ridge().fit(train[train.id.isin(clusters[cluster])].loc[:,predictors_cluster[cluster]].values,train[train.id.isin(clusters[cluster])].loc[:,\"y\"].values)\n",
    "        else:\n",
    "            predictors_cluster[cluster]=[\"technical_20\"]\n",
    "            linear[cluster]=LinearRegression().fit(train.loc[:,\"technical_20\"].values.reshape(-1,1),train.loc[:,\"y\"].values)\n",
    "    return linear\n",
    "\n",
    "#This function compute the cumulative R2\n",
    "def get_reward(y_true, y_fit):\n",
    "    R2 = 1 - np.sum((y_true - y_fit)**2) / np.sum((y_true - np.mean(y_true))**2)\n",
    "    return(R2)"
   ]
  },
  {
   "cell_type": "code",
   "execution_count": 7,
   "metadata": {
    "collapsed": false
   },
   "outputs": [
    {
     "name": "stdout",
     "output_type": "stream",
     "text": [
      "Preprocessing...\n"
     ]
    },
    {
     "name": "stderr",
     "output_type": "stream",
     "text": [
      "/home/reda/anaconda3/lib/python3.5/site-packages/pandas/core/generic.py:3191: SettingWithCopyWarning: \n",
      "A value is trying to be set on a copy of a slice from a DataFrame\n",
      "\n",
      "See the caveats in the documentation: http://pandas.pydata.org/pandas-docs/stable/indexing.html#indexing-view-versus-copy\n",
      "  self._update_inplace(new_data)\n"
     ]
    }
   ],
   "source": [
    "# Filling in the nan values with the median\n",
    "print(\"Preprocessing...\")\n",
    "train_medians = train.median(axis=0)\n",
    "_=train.fillna(train_medians,axis=0,inplace=True)"
   ]
  },
  {
   "cell_type": "markdown",
   "metadata": {},
   "source": [
    "### Clustering"
   ]
  },
  {
   "cell_type": "code",
   "execution_count": 40,
   "metadata": {
    "collapsed": true
   },
   "outputs": [],
   "source": [
    "NB_FEATURES=3 # The number of top features that correlate the most with y\n",
    "HIERCHICAL_METHOD=\"weighted\" # Linkage methode for the hierarchical clustering\n",
    "HIERCHICAL_NB_CLUSTERS=20  # Number of clusters to keep\n",
    "MIN_NB_OF_ROWS_PER_CLUSTER = 5000 # Minimum number of rows to keep a cluster"
   ]
  },
  {
   "cell_type": "code",
   "execution_count": 9,
   "metadata": {
    "collapsed": false
   },
   "outputs": [
    {
     "name": "stderr",
     "output_type": "stream",
     "text": [
      "/home/reda/anaconda3/lib/python3.5/site-packages/ipykernel/__main__.py:37: FutureWarning: sort is deprecated, use sort_values(inplace=True) for INPLACE sorting\n"
     ]
    }
   ],
   "source": [
    "#The clustering\n",
    "pred_cl,ids_cl = hiarchical_clust(construct_df(NB_FEATURES),HIERCHICAL_METHOD,HIERCHICAL_NB_CLUSTERS)"
   ]
  },
  {
   "cell_type": "code",
   "execution_count": 22,
   "metadata": {
    "collapsed": true
   },
   "outputs": [],
   "source": [
    "ids_clust={}\n",
    "ids_cl_df=pd.DataFrame.from_dict(ids_cl,orient=\"index\")\n",
    "for cluster in pred_cl.keys():\n",
    "    ids_clust[cluster]=ids_cl_df[ids_cl_df[0]==cluster][0].index.values"
   ]
  },
  {
   "cell_type": "markdown",
   "metadata": {},
   "source": [
    "###### Check Id distribution across clusters"
   ]
  },
  {
   "cell_type": "code",
   "execution_count": 32,
   "metadata": {
    "collapsed": false
   },
   "outputs": [
    {
     "name": "stdout",
     "output_type": "stream",
     "text": [
      "cluster 0: 422 unique ids\n",
      "cluster 1: 73 unique ids\n",
      "cluster 2: 86 unique ids\n",
      "cluster 3: 115 unique ids\n",
      "cluster 4: 91 unique ids\n",
      "cluster 5: 38 unique ids\n",
      "cluster 6: 24 unique ids\n",
      "cluster 7: 39 unique ids\n",
      "cluster 8: 25 unique ids\n",
      "cluster 9: 36 unique ids\n",
      "cluster 10: 207 unique ids\n",
      "cluster 11: 58 unique ids\n",
      "cluster 12: 38 unique ids\n",
      "cluster 13: 40 unique ids\n",
      "cluster 14: 10 unique ids\n",
      "cluster 15: 13 unique ids\n",
      "cluster 16: 34 unique ids\n",
      "cluster 17: 19 unique ids\n",
      "cluster 18: 36 unique ids\n",
      "cluster 19: 20 unique ids\n"
     ]
    }
   ],
   "source": [
    "for cluster, list_ids in ids_clust.items():\n",
    "    print(\"cluster %d: %d unique ids\"%(cluster,len(list_ids)))"
   ]
  },
  {
   "cell_type": "markdown",
   "metadata": {},
   "source": [
    "##### Check number of lines across clusters"
   ]
  },
  {
   "cell_type": "code",
   "execution_count": 31,
   "metadata": {
    "collapsed": false
   },
   "outputs": [
    {
     "name": "stderr",
     "output_type": "stream",
     "text": [
      "/home/reda/anaconda3/lib/python3.5/site-packages/ipykernel/__main__.py:1: SettingWithCopyWarning: \n",
      "A value is trying to be set on a copy of a slice from a DataFrame.\n",
      "Try using .loc[row_indexer,col_indexer] = value instead\n",
      "\n",
      "See the caveats in the documentation: http://pandas.pydata.org/pandas-docs/stable/indexing.html#indexing-view-versus-copy\n",
      "  if __name__ == '__main__':\n"
     ]
    },
    {
     "name": "stdout",
     "output_type": "stream",
     "text": [
      "Cluster 0 : 70768 lines\n",
      "Cluster 1 : 50488 lines\n",
      "Cluster 2 : 70322 lines\n",
      "Cluster 3 : 77078 lines\n",
      "Cluster 4 : 67004 lines\n",
      "Cluster 5 : 25802 lines\n",
      "Cluster 6 : 17720 lines\n",
      "Cluster 7 : 29078 lines\n",
      "Cluster 8 : 14740 lines\n",
      "Cluster 9 : 26368 lines\n",
      "Cluster 10 : 161246 lines\n",
      "Cluster 11 : 44391 lines\n",
      "Cluster 12 : 31702 lines\n",
      "Cluster 13 : 27538 lines\n",
      "Cluster 14 : 7103 lines\n",
      "Cluster 15 : 10524 lines\n",
      "Cluster 16 : 28019 lines\n",
      "Cluster 17 : 13205 lines\n",
      "Cluster 18 : 26227 lines\n",
      "Cluster 19 : 13748 lines\n"
     ]
    },
    {
     "name": "stderr",
     "output_type": "stream",
     "text": [
      "/home/reda/anaconda3/lib/python3.5/site-packages/ipykernel/__main__.py:4: SettingWithCopyWarning: \n",
      "A value is trying to be set on a copy of a slice from a DataFrame\n",
      "\n",
      "See the caveats in the documentation: http://pandas.pydata.org/pandas-docs/stable/indexing.html#indexing-view-versus-copy\n"
     ]
    }
   ],
   "source": [
    "train[\"cluster\"]=train.id.map(lambda x: ids_cl[x])\n",
    "for cluster in cl.keys():\n",
    "    print(\"Cluster %d : %d lines\"%(cluster,len(train[train.cluster==cluster])))\n",
    "train.drop([\"cluster\"],axis=1,inplace=True)"
   ]
  },
  {
   "cell_type": "markdown",
   "metadata": {},
   "source": [
    "### Merge clusters if needed"
   ]
  },
  {
   "cell_type": "markdown",
   "metadata": {},
   "source": [
    "###### Here we merge clusters with small number of ids together"
   ]
  },
  {
   "cell_type": "code",
   "execution_count": 23,
   "metadata": {
    "collapsed": false
   },
   "outputs": [],
   "source": [
    "cluster_len={}\n",
    "for cluster, list_ids in ids_clust.items():\n",
    "    cluster_len[cluster]=len(list_ids)\n",
    "sorted_clust_len = sorted(cluster_len.items(), key=operator.itemgetter(1))"
   ]
  },
  {
   "cell_type": "code",
   "execution_count": 24,
   "metadata": {
    "collapsed": false
   },
   "outputs": [],
   "source": [
    "pred_clust=copy.deepcopy(pred_cl)\n",
    "new_cluster_index=100\n",
    "while sorted_clust_len[0][1]<30 and sorted_clust_len[1][1]<30:\n",
    "    indexes_to_delete=[]\n",
    "    indexes_to_delete.extend([sorted_clust_len[0][0],sorted_clust_len[1][0]])\n",
    "    merged_ids=np.append(ids_clust[indexes_to_delete[0]],ids_clust[indexes_to_delete[1]])\n",
    "    ids_clust[new_cluster_index]=merged_ids\n",
    "    ids_clust.pop(indexes_to_delete[0], None)\n",
    "    ids_clust.pop(indexes_to_delete[1], None)\n",
    "    pred_clust[new_cluster_index]=[\"technical_20\",\"technical_30\"]\n",
    "    pred_clust.pop(indexes_to_delete[0], None)\n",
    "    pred_clust.pop(indexes_to_delete[1], None)\n",
    "    new_cluster_index+=1\n",
    "    cluster_len={}\n",
    "    for cluster, list_ids in ids_clust.items():\n",
    "        cluster_len[cluster]=len(list_ids)\n",
    "    sorted_clust_len = sorted(cluster_len.items(), key=operator.itemgetter(1))"
   ]
  },
  {
   "cell_type": "markdown",
   "metadata": {},
   "source": [
    "###### New id distribution across clusters"
   ]
  },
  {
   "cell_type": "code",
   "execution_count": 25,
   "metadata": {
    "collapsed": false
   },
   "outputs": [
    {
     "name": "stdout",
     "output_type": "stream",
     "text": [
      "cluster 0: 422 unique ids\n",
      "cluster 1: 73 unique ids\n",
      "cluster 2: 86 unique ids\n",
      "cluster 3: 115 unique ids\n",
      "cluster 4: 91 unique ids\n",
      "cluster 5: 38 unique ids\n",
      "cluster 7: 39 unique ids\n",
      "cluster 8: 25 unique ids\n",
      "cluster 9: 36 unique ids\n",
      "cluster 10: 207 unique ids\n",
      "cluster 11: 58 unique ids\n",
      "cluster 12: 38 unique ids\n",
      "cluster 13: 40 unique ids\n",
      "cluster 16: 34 unique ids\n",
      "cluster 18: 36 unique ids\n",
      "cluster 101: 39 unique ids\n",
      "cluster 102: 47 unique ids\n"
     ]
    }
   ],
   "source": [
    "for cluster, list_ids in ids_clust.items():\n",
    "    print(\"cluster %d: %d unique ids\"%(cluster,len(list_ids)))"
   ]
  },
  {
   "cell_type": "markdown",
   "metadata": {},
   "source": [
    "###### Fitting the model"
   ]
  },
  {
   "cell_type": "markdown",
   "metadata": {},
   "source": [
    "###### If no merging of Ids"
   ]
  },
  {
   "cell_type": "code",
   "execution_count": null,
   "metadata": {
    "collapsed": true
   },
   "outputs": [],
   "source": [
    "predictors_cluster=copy.deepcopy(pred_cl)\n",
    "clusters=copy.deepcopy(ids_clust)"
   ]
  },
  {
   "cell_type": "markdown",
   "metadata": {},
   "source": [
    "###### If merging of Ids"
   ]
  },
  {
   "cell_type": "code",
   "execution_count": 28,
   "metadata": {
    "collapsed": true
   },
   "outputs": [],
   "source": [
    "predictors_cluster=copy.deepcopy(pred_clust)\n",
    "clusters=copy.deepcopy(ids_clust)"
   ]
  },
  {
   "cell_type": "markdown",
   "metadata": {},
   "source": [
    "###### Fit the model"
   ]
  },
  {
   "cell_type": "code",
   "execution_count": 45,
   "metadata": {
    "collapsed": false
   },
   "outputs": [
    {
     "name": "stdout",
     "output_type": "stream",
     "text": [
      "training...\n",
      "fitting model 1...\n",
      "fitting n models...\n",
      "Predicting...\n",
      "Timestamp #1000\n",
      "reward: 0.004518719461391485\n",
      "Timestamp #1100\n",
      "reward: 0.0003726948829995136\n",
      "Timestamp #1200\n",
      "reward: -0.006247984214983404\n",
      "Timestamp #1300\n",
      "reward: -0.004936681937448784\n",
      "Timestamp #1400\n",
      "reward: -0.027485883757837337\n",
      "Timestamp #1500\n",
      "reward: -0.02061826663278965\n",
      "Timestamp #1600\n",
      "reward: -0.029157966794577828\n",
      "Timestamp #1700\n",
      "reward: 0.00018740046172238678\n",
      "Timestamp #1800\n",
      "reward: -0.03244413146059788\n",
      "Public score: -0.0010148098246185455\n"
     ]
    }
   ],
   "source": [
    "# Y clipping\n",
    "low_y_cut = -0.086093\n",
    "high_y_cut = 0.093497\n",
    "\n",
    "target=[\"y\"]\n",
    "cols_not_use=[\"id\",\"timestamp\",\"y\"]\n",
    "predictors_1=[\"technical_30\",\"technical_20\"]\n",
    "\n",
    "print(\"training...\")\n",
    "print(\"fitting model 1...\")\n",
    "#model 1: Ridge Regression on whole data set with two features : \"technical_30\" and \"technical_20\"\n",
    "y_is_within_cut = (~(train.loc[:,predictors_1+target].y > high_y_cut) & ~(train.loc[:,predictors_1+target].y < low_y_cut))\n",
    "linear0=Ridge().fit(train.loc[y_is_within_cut,predictors_1].values,train.loc[y_is_within_cut,\"y\"].values.ravel())\n",
    "\n",
    "print(\"fitting n models...\")\n",
    "#model 2: n Ridge regressions on the n constructed clusters\n",
    "linear=multiple_fit(clusters,predictors_cluster)\n",
    "\n",
    "whole_y_pred=[]\n",
    "whole_actual_y=[]\n",
    "overall_reward=[]\n",
    "timestamp_list=[]\n",
    "print(\"Predicting...\")\n",
    "\n",
    "#set initial features\n",
    "features=test.loc[test.timestamp==913,~test.columns.isin([\"y\"]) ]\n",
    "\n",
    "while True:\n",
    "    timestamp = features.timestamp.values[0]\n",
    "    actual_y = sigma[sigma[\"timestamp\"] == timestamp][\"y\"].values\n",
    "    #features=observation.features\n",
    "    features.fillna(train_medians,axis=0,inplace=True)\n",
    "\n",
    "\n",
    "    y_pred_1 = linear0.predict(features.loc[:,predictors_1].values).clip(low_y_cut, high_y_cut)\n",
    "    \n",
    "    features[\"y_pred\"]=np.NaN\n",
    "\n",
    "    for cluster in np.arange(0,len(predictors_cluster),1):\n",
    "        if len(features.loc[features.id.isin(clusters[cluster]),\"y_pred\"])>0:\n",
    "            features.loc[features.id.isin(clusters[cluster]),\"y_pred\"]=linear[cluster].predict(features.loc[features.id.isin(clusters[cluster]),predictors_cluster[cluster]])\n",
    "            \n",
    "    features.y_pred.fillna(0,axis=0,inplace=True) \n",
    "    y_pred_2=features.y_pred\n",
    "    \n",
    "    y_pred=0.5*y_pred_1 + 0.5*y_pred_2\n",
    "    \n",
    "    features.y_pred = y_pred\n",
    "    target=features.y_pred.values\n",
    "\n",
    "    features, reward, done = step(timestamp,target)\n",
    "    \n",
    "    whole_actual_y.extend(actual_y)\n",
    "    whole_y_pred.extend(y_pred)\n",
    "    overall_reward.append(get_reward(np.array(whole_actual_y), np.array(whole_y_pred)))\n",
    "    timestamp_list.append(timestamp)\n",
    "    if timestamp % 100 == 0:\n",
    "        print(\"Timestamp #{}\".format(timestamp))\n",
    "        print(\"reward: {}\".format(reward))\n",
    "        \n",
    "    if done:\n",
    "        print(\"Public score: {}\".format(overall_reward[-1]))\n",
    "        break\n",
    "    \n",
    "#print(info)"
   ]
  },
  {
   "cell_type": "code",
   "execution_count": 46,
   "metadata": {
    "collapsed": true
   },
   "outputs": [],
   "source": [
    "#store the model\n",
    "overall_reward_models[\"main_model\"]=overall_reward\n",
    "public_score[\"main_model\"]=overall_reward[-1]"
   ]
  },
  {
   "cell_type": "code",
   "execution_count": 58,
   "metadata": {
    "collapsed": true
   },
   "outputs": [],
   "source": [
    "# Store the model on disc\n",
    "pickle.dump( overall_reward_models, open( \"overall_reward_models.p\", \"wb\" ) )\n",
    "pickle.dump( public_score, open( \"public_score.p\", \"wb\" ) )"
   ]
  },
  {
   "cell_type": "code",
   "execution_count": 48,
   "metadata": {
    "collapsed": false
   },
   "outputs": [],
   "source": [
    "def compare_plots(models):\n",
    "    fig, ax = plt.subplots(figsize=(12, 6))\n",
    "    ax.plot(timestamp_list, [0]*len(timestamp_list), c='black', label='zero line')\n",
    "    for model in models:\n",
    "        ax.plot(timestamp_list, overall_reward_models[model], label=str(model)+\" :\"+str(public_score[model]) )\n",
    "        #ax.plot(timestamp_list, overall_reward_models[\"main_model\"], c='blue', label=\"model_1: \"+str(public_score[\"model_1\"]))\n",
    "        #ax.plot(timestamp_list, overall_reward_2, c='green', label='65-35 + y_median (-0.0160)')\n",
    "    ax.legend(loc='lower right')\n",
    "    ax.set_ylim([-0.0015,0.0015])\n",
    "    ax.set_xlim([910, 1850])\n",
    "    plt.title(\"Cumulative R2 value evolution\")\n",
    "    plt.show()"
   ]
  },
  {
   "cell_type": "code",
   "execution_count": 59,
   "metadata": {
    "collapsed": false
   },
   "outputs": [
    {
     "data": {
      "image/png": "[encoded data removed]",
      "text/plain": [
       "<matplotlib.figure.Figure at 0x7f11d4e47550>"
      ]
     },
     "metadata": {},
     "output_type": "display_data"
    }
   ],
   "source": [
    "compare_plots([\"main_model\",\"model_merge_30\"])"
   ]
  }
 ],
 "metadata": {
  "anaconda-cloud": {},
  "kernelspec": {
   "display_name": "Python [default]",
   "language": "python",
   "name": "python3"
  },
  "language_info": {
   "codemirror_mode": {
    "name": "ipython",
    "version": 3
   },
   "file_extension": ".py",
   "mimetype": "text/x-python",
   "name": "python",
   "nbconvert_exporter": "python",
   "pygments_lexer": "ipython3",
   "version": "3.5.2"
  }
 },
 "nbformat": 4,
 "nbformat_minor": 1
}
