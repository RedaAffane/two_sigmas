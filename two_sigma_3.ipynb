{
 "cells": [
  {
   "cell_type": "code",
   "execution_count": 1,
   "metadata": {
    "collapsed": true
   },
   "outputs": [],
   "source": [
    "%matplotlib inline\n",
    "import pandas as pd\n",
    "import numpy as np\n",
    "import matplotlib.pyplot as plt\n",
    "import seaborn as sns\n",
    "\n",
    "from sklearn.ensemble import GradientBoostingRegressor, RandomForestRegressor\n",
    "from sklearn.metrics import r2_score , log_loss, mean_squared_error\n",
    "from sklearn.linear_model import Ridge, Lasso, LinearRegression, RandomizedLasso\n",
    "from sklearn.tree import DecisionTreeRegressor"
   ]
  },
  {
   "cell_type": "code",
   "execution_count": 2,
   "metadata": {
    "collapsed": true
   },
   "outputs": [],
   "source": [
    "sigma = pd.read_hdf(\"./data/train.h5\")"
   ]
  },
  {
   "cell_type": "code",
   "execution_count": 4,
   "metadata": {
    "collapsed": false
   },
   "outputs": [
    {
     "data": {
      "text/plain": [
       "0          False\n",
       "1          False\n",
       "2          False\n",
       "3          False\n",
       "4          False\n",
       "5          False\n",
       "6          False\n",
       "7          False\n",
       "8          False\n",
       "9          False\n",
       "10         False\n",
       "11         False\n",
       "12         False\n",
       "13         False\n",
       "14         False\n",
       "15         False\n",
       "16         False\n",
       "17         False\n",
       "18         False\n",
       "19         False\n",
       "20         False\n",
       "21         False\n",
       "22         False\n",
       "23         False\n",
       "24         False\n",
       "25         False\n",
       "26         False\n",
       "27         False\n",
       "28         False\n",
       "29         False\n",
       "           ...  \n",
       "1710726    False\n",
       "1710727    False\n",
       "1710728    False\n",
       "1710729    False\n",
       "1710730    False\n",
       "1710731    False\n",
       "1710732    False\n",
       "1710733    False\n",
       "1710734    False\n",
       "1710735    False\n",
       "1710736    False\n",
       "1710737    False\n",
       "1710738    False\n",
       "1710739    False\n",
       "1710740    False\n",
       "1710741    False\n",
       "1710742    False\n",
       "1710743    False\n",
       "1710744    False\n",
       "1710745    False\n",
       "1710746    False\n",
       "1710747    False\n",
       "1710748    False\n",
       "1710749    False\n",
       "1710750    False\n",
       "1710751    False\n",
       "1710752    False\n",
       "1710753    False\n",
       "1710754    False\n",
       "1710755    False\n",
       "Name: technical_20, dtype: bool"
      ]
     },
     "execution_count": 4,
     "metadata": {},
     "output_type": "execute_result"
    }
   ],
   "source": [
    "pd.isnull(sigma[\"technical_20\"])"
   ]
  },
  {
   "cell_type": "code",
   "execution_count": 3,
   "metadata": {
    "collapsed": false
   },
   "outputs": [
    {
     "data": {
      "text/plain": [
       "0          24\n",
       "1          22\n",
       "2          28\n",
       "3          38\n",
       "4          21\n",
       "5          30\n",
       "6          60\n",
       "7          22\n",
       "8          21\n",
       "9          27\n",
       "10         27\n",
       "11         42\n",
       "12         21\n",
       "13         51\n",
       "14         54\n",
       "15         33\n",
       "16         26\n",
       "17         27\n",
       "18         36\n",
       "19         30\n",
       "20         21\n",
       "21         21\n",
       "22         21\n",
       "23         35\n",
       "24         29\n",
       "25         54\n",
       "26         23\n",
       "27         25\n",
       "28         20\n",
       "29         54\n",
       "           ..\n",
       "1710726     7\n",
       "1710727     1\n",
       "1710728    34\n",
       "1710729     0\n",
       "1710730    36\n",
       "1710731    34\n",
       "1710732    10\n",
       "1710733     0\n",
       "1710734     9\n",
       "1710735    37\n",
       "1710736    22\n",
       "1710737    37\n",
       "1710738     1\n",
       "1710739    34\n",
       "1710740     0\n",
       "1710741     1\n",
       "1710742     9\n",
       "1710743     0\n",
       "1710744     8\n",
       "1710745    36\n",
       "1710746     1\n",
       "1710747     0\n",
       "1710748     6\n",
       "1710749     1\n",
       "1710750     0\n",
       "1710751    35\n",
       "1710752    40\n",
       "1710753    10\n",
       "1710754    34\n",
       "1710755    56\n",
       "dtype: int64"
      ]
     },
     "execution_count": 3,
     "metadata": {},
     "output_type": "execute_result"
    }
   ],
   "source": [
    "sigma.isnull().sum(axis=1)"
   ]
  },
  {
   "cell_type": "code",
   "execution_count": 5,
   "metadata": {
    "collapsed": true
   },
   "outputs": [],
   "source": [
    "sigma_train = sigma[sigma[\"timestamp\"].isin(sigma[\"timestamp\"].unique()[:913])]\n",
    "sigma_test  = sigma[sigma[\"timestamp\"].isin(sigma[\"timestamp\"].unique()[913:])]"
   ]
  },
  {
   "cell_type": "code",
   "execution_count": 6,
   "metadata": {
    "collapsed": true
   },
   "outputs": [],
   "source": [
    "cols_not_use=[\"id\",\"timestamp\",\"y\"]\n",
    "cols=[c for c in sigma_train.columns if c not in cols_not_use]"
   ]
  },
  {
   "cell_type": "code",
   "execution_count": 16,
   "metadata": {
    "collapsed": true
   },
   "outputs": [],
   "source": [
    "test_df=pd.DataFrame({\"derived_0\":[1,4,np.NaN,4], \"fundamental_3\":[np.NaN,4,5,4]})"
   ]
  },
  {
   "cell_type": "code",
   "execution_count": 11,
   "metadata": {
    "collapsed": false
   },
   "outputs": [],
   "source": [
    "sigma_train = sigma_train[cols]\n",
    "train_median= sigma_train.median(axis=0)\n",
    "\n",
    "n = sigma_train.isnull().sum(axis=1)\n",
    "for c in sigma_train.columns:\n",
    "    sigma_train[c + '_na'] = pd.isnull(sigma_train[c])\n",
    "    train_median[c + '_na'] = 0\n",
    "sigma_train = sigma_train.fillna(train_median)\n",
    "sigma_train['row_nb_na'] = n"
   ]
  },
  {
   "cell_type": "code",
   "execution_count": 12,
   "metadata": {
    "collapsed": false
   },
   "outputs": [
    {
     "data": {
      "text/html": [
       "<div>\n",
       "<table border=\"1\" class=\"dataframe\">\n",
       "  <thead>\n",
       "    <tr style=\"text-align: right;\">\n",
       "      <th></th>\n",
       "      <th>derived_0</th>\n",
       "      <th>derived_1</th>\n",
       "      <th>derived_2</th>\n",
       "      <th>derived_3</th>\n",
       "      <th>derived_4</th>\n",
       "      <th>fundamental_0</th>\n",
       "      <th>fundamental_1</th>\n",
       "      <th>fundamental_2</th>\n",
       "      <th>fundamental_3</th>\n",
       "      <th>fundamental_5</th>\n",
       "      <th>...</th>\n",
       "      <th>technical_36_na</th>\n",
       "      <th>technical_37_na</th>\n",
       "      <th>technical_38_na</th>\n",
       "      <th>technical_39_na</th>\n",
       "      <th>technical_40_na</th>\n",
       "      <th>technical_41_na</th>\n",
       "      <th>technical_42_na</th>\n",
       "      <th>technical_43_na</th>\n",
       "      <th>technical_44_na</th>\n",
       "      <th>row_nb_na</th>\n",
       "    </tr>\n",
       "  </thead>\n",
       "  <tbody>\n",
       "    <tr>\n",
       "      <th>0</th>\n",
       "      <td>0.370326</td>\n",
       "      <td>-0.006316</td>\n",
       "      <td>0.222831</td>\n",
       "      <td>-0.21303</td>\n",
       "      <td>0.729277</td>\n",
       "      <td>-0.335633</td>\n",
       "      <td>0.113292</td>\n",
       "      <td>1.621238</td>\n",
       "      <td>-0.179404</td>\n",
       "      <td>0.044959</td>\n",
       "      <td>...</td>\n",
       "      <td>False</td>\n",
       "      <td>False</td>\n",
       "      <td>False</td>\n",
       "      <td>False</td>\n",
       "      <td>False</td>\n",
       "      <td>False</td>\n",
       "      <td>False</td>\n",
       "      <td>False</td>\n",
       "      <td>False</td>\n",
       "      <td>0</td>\n",
       "    </tr>\n",
       "  </tbody>\n",
       "</table>\n",
       "<p>1 rows × 217 columns</p>\n",
       "</div>"
      ],
      "text/plain": [
       "   derived_0  derived_1  derived_2  derived_3  derived_4  fundamental_0  \\\n",
       "0   0.370326  -0.006316   0.222831   -0.21303   0.729277      -0.335633   \n",
       "\n",
       "   fundamental_1  fundamental_2  fundamental_3  fundamental_5    ...      \\\n",
       "0       0.113292       1.621238      -0.179404       0.044959    ...       \n",
       "\n",
       "   technical_36_na  technical_37_na  technical_38_na  technical_39_na  \\\n",
       "0            False            False            False            False   \n",
       "\n",
       "   technical_40_na  technical_41_na  technical_42_na  technical_43_na  \\\n",
       "0            False            False            False            False   \n",
       "\n",
       "   technical_44_na  row_nb_na  \n",
       "0            False          0  \n",
       "\n",
       "[1 rows x 217 columns]"
      ]
     },
     "execution_count": 12,
     "metadata": {},
     "output_type": "execute_result"
    }
   ],
   "source": [
    "sigma_train.head(1)"
   ]
  },
  {
   "cell_type": "code",
   "execution_count": 14,
   "metadata": {
    "collapsed": false
   },
   "outputs": [
    {
     "data": {
      "text/plain": [
       "technical_20      0\n",
       "technical_30      0\n",
       "technical_19      0\n",
       "fundamental_11    0\n",
       "technical_13      0\n",
       "technical_36      0\n",
       "dtype: int64"
      ]
     },
     "execution_count": 14,
     "metadata": {},
     "output_type": "execute_result"
    }
   ],
   "source": [
    " sigma_train.loc[:,[\"technical_20\",\"technical_30\",\"technical_19\",\"fundamental_11\",\"technical_13\",\"technical_36\"]].isnull().sum(axis=0)"
   ]
  }
 ],
 "metadata": {
  "anaconda-cloud": {},
  "kernelspec": {
   "display_name": "Python [default]",
   "language": "python",
   "name": "python3"
  },
  "language_info": {
   "codemirror_mode": {
    "name": "ipython",
    "version": 3
   },
   "file_extension": ".py",
   "mimetype": "text/x-python",
   "name": "python",
   "nbconvert_exporter": "python",
   "pygments_lexer": "ipython3",
   "version": "3.5.2"
  }
 },
 "nbformat": 4,
 "nbformat_minor": 1
}
